{
 "cells": [
  {
   "cell_type": "markdown",
   "metadata": {},
   "source": [
    "# Notebook 2: BLIP-2 for Text Generation\n",
    "This notebook will handle generating descriptions (or captions) from the radiology images using the BLIP-2 model, which leverages the FLAN-T5 model for image captioning.\n",
    "\n",
    "\n",
    "## Data Loading and Preprocessing:\n",
    "\n",
    "- Load the dataset containing medical images (radiology images in this case).\n",
    "- Preprocess the images to the required format (similar to Notebook 1), including resizing and normalization.\n",
    "## Image Feature Extraction:\n",
    "\n",
    "- Use a pre-trained BLIP-2 model to handle both image feature extraction and text generation.\n",
    "- BLIP-2 model integrates visual and language models to generate meaningful descriptions for medical images.\n",
    "## Text Generation with BLIP-2:\n",
    "\n",
    "- Use the Blip2ForConditionalGeneration model and Blip2Processor from Hugging Face's Transformers library.\n",
    "- Generate image descriptions based on the radiology images using the BLIP-2 model.\n",
    "## Testing and Evaluation:\n",
    "\n",
    "- Feed images through the BLIP-2 model and observe the generated text descriptions.\n",
    "- Evaluate the quality of the generated descriptions and adjust any necessary preprocessing steps.\n",
    "\n",
    "## Screenshot\n",
    "[!](notebook2.png)"
   ]
  },
  {
   "cell_type": "code",
   "execution_count": null,
   "metadata": {},
   "outputs": [],
   "source": [
    "from transformers import Blip2Processor, Blip2ForConditionalGeneration\n",
    "import torch\n",
    "from PIL import Image\n",
    "\n",
    "# Load BLIP-2 model and processor\n",
    "model = Blip2ForConditionalGeneration.from_pretrained(\"Salesforce/blip2-flan-t5-xxl\")\n",
    "processor = Blip2Processor.from_pretrained(\"Salesforce/blip2-flan-t5-xxl\")\n",
    "\n",
    "def generate_image_description(image_path):\n",
    "    image = Image.open(image_path).convert(\"RGB\")\n",
    "    inputs = processor(images=image, return_tensors=\"pt\")\n",
    "    outputs = model.generate(**inputs)\n",
    "    description = processor.decode(outputs[0], skip_special_tokens=True)\n",
    "    return description"
   ]
  },
  {
   "cell_type": "code",
   "execution_count": null,
   "metadata": {},
   "outputs": [],
   "source": [
    "# Example usage\n",
    "description = generate_image_description('image.jpg')\n",
    "print(description)"
   ]
  }
 ],
 "metadata": {
  "kernelspec": {
   "display_name": "Python 3",
   "language": "python",
   "name": "python3"
  },
  "language_info": {
   "codemirror_mode": {
    "name": "ipython",
    "version": 3
   },
   "file_extension": ".py",
   "mimetype": "text/x-python",
   "name": "python",
   "nbconvert_exporter": "python",
   "pygments_lexer": "ipython3",
   "version": "3.11.3"
  }
 },
 "nbformat": 4,
 "nbformat_minor": 2
}
