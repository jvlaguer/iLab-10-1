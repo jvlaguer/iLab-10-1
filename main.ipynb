{
 "cells": [
  {
   "cell_type": "code",
   "execution_count": 1,
   "metadata": {},
   "outputs": [
    {
     "name": "stderr",
     "output_type": "stream",
     "text": [
      "Found cached dataset parquet (/Users/hemang/.cache/huggingface/datasets/flaviagiammarino___parquet/flaviagiammarino--vqa-rad-d04980c9c3579419/0.0.0/2a3b91fbd88a2c90d1dbbb32b460cf621d31bd5b05b934492fdef7d8d6f236ec)\n"
     ]
    },
    {
     "data": {
      "application/vnd.jupyter.widget-view+json": {
       "model_id": "9159150c1eeb4652900246fdd62cfadd",
       "version_major": 2,
       "version_minor": 0
      },
      "text/plain": [
       "  0%|          | 0/2 [00:00<?, ?it/s]"
      ]
     },
     "metadata": {},
     "output_type": "display_data"
    },
    {
     "name": "stdout",
     "output_type": "stream",
     "text": [
      "Dataset loaded successfully.\n",
      "Number of training samples: 1793\n",
      "Number of test samples: 451\n"
     ]
    }
   ],
   "source": [
    "# 1. Library and Dataset Loading\n",
    "import numpy as np\n",
    "import pandas as pd\n",
    "import tensorflow as tf\n",
    "from transformers import RobertaTokenizer, TFRobertaModel\n",
    "from tensorflow.keras.applications import ResNet50\n",
    "from tensorflow.keras.preprocessing import image as keras_image\n",
    "from tensorflow.keras.applications.resnet50 import preprocess_input as preprocess_resnet_input\n",
    "from tensorflow.keras.utils import to_categorical\n",
    "from datasets import load_dataset\n",
    "\n",
    "# Load the dataset\n",
    "dataset = load_dataset(\"flaviagiammarino/vqa-rad\")\n",
    "\n",
    "# Print dataset info\n",
    "print(\"Dataset loaded successfully.\")\n",
    "print(f\"Number of training samples: {len(dataset['train'])}\")\n",
    "print(f\"Number of test samples: {len(dataset['test'])}\")"
   ]
  },
  {
   "cell_type": "code",
   "execution_count": 2,
   "metadata": {},
   "outputs": [
    {
     "name": "stdout",
     "output_type": "stream",
     "text": [
      "Sample image size before preprocessing: (566, 555)\n",
      "Sample image tensor shape after preprocessing: (224, 224, 3)\n"
     ]
    }
   ],
   "source": [
    "#2. Preprocessing\n",
    "# Data transformation\n",
    "def preprocess_image(image):\n",
    "    # Resize and normalize image\n",
    "    image = image.resize((224, 224))\n",
    "    image_array = np.array(image)\n",
    "    image_array = preprocess_resnet_input(image_array)\n",
    "    return image_array\n",
    "\n",
    "# Sample preprocessing\n",
    "sample_image = dataset['train'][0]['image']\n",
    "preprocessed_image = preprocess_image(sample_image)\n",
    "print(f\"Sample image size before preprocessing: {sample_image.size}\")\n",
    "print(f\"Sample image tensor shape after preprocessing: {preprocessed_image.shape}\")"
   ]
  },
  {
   "cell_type": "code",
   "execution_count": 3,
   "metadata": {},
   "outputs": [
    {
     "name": "stdout",
     "output_type": "stream",
     "text": [
      "Sample input IDs: [[   0 1322 3806    9    5 2900 4047  271 3894  196  116    2]]\n",
      "Sample attention mask: [[1 1 1 1 1 1 1 1 1 1 1 1]]\n"
     ]
    }
   ],
   "source": [
    "#3. Tokenizing\n",
    "tokenizer = RobertaTokenizer.from_pretrained('roberta-base')\n",
    "\n",
    "def tokenize_text(text):\n",
    "    inputs = tokenizer(text, return_tensors=\"tf\", padding=True, truncation=True)\n",
    "    return inputs['input_ids'], inputs['attention_mask']\n",
    "\n",
    "# Sample tokenizing\n",
    "sample_question = dataset['train'][0]['question']\n",
    "input_ids, attention_mask = tokenize_text(sample_question)\n",
    "print(f\"Sample input IDs: {input_ids}\")\n",
    "print(f\"Sample attention mask: {attention_mask}\")"
   ]
  },
  {
   "cell_type": "code",
   "execution_count": 4,
   "metadata": {},
   "outputs": [
    {
     "name": "stderr",
     "output_type": "stream",
     "text": [
      "Some layers from the model checkpoint at roberta-base were not used when initializing TFRobertaModel: ['lm_head']\n",
      "- This IS expected if you are initializing TFRobertaModel from the checkpoint of a model trained on another task or with another architecture (e.g. initializing a BertForSequenceClassification model from a BertForPreTraining model).\n",
      "- This IS NOT expected if you are initializing TFRobertaModel from the checkpoint of a model that you expect to be exactly identical (initializing a BertForSequenceClassification model from a BertForSequenceClassification model).\n",
      "All the layers of TFRobertaModel were initialized from the model checkpoint at roberta-base.\n",
      "If your task is similar to the task the model of the checkpoint was trained on, you can already use TFRobertaModel for predictions without further training.\n",
      "2024-09-07 18:57:47.509345: W tensorflow/core/platform/profile_utils/cpu_utils.cc:128] Failed to get CPU frequency: 0 Hz\n"
     ]
    },
    {
     "name": "stdout",
     "output_type": "stream",
     "text": [
      "1/1 [==============================] - 0s 434ms/step\n",
      "Image features shape: (1, 2048)\n",
      "Text features shape: (1, 768)\n"
     ]
    }
   ],
   "source": [
    "#4. Feature Extraction\n",
    "# Define the models\n",
    "resnet_model = ResNet50(weights='imagenet', include_top=False, pooling='avg')\n",
    "roberta_model = TFRobertaModel.from_pretrained('roberta-base')\n",
    "\n",
    "def extract_features(image, text):\n",
    "    # Extract image features\n",
    "    image_features = resnet_model.predict(np.expand_dims(image, axis=0))\n",
    "    \n",
    "    # Reshape to match the expected input of the model (if needed)\n",
    "    image_features = image_features.reshape((image_features.shape[0], -1))\n",
    "    \n",
    "    # Extract text features\n",
    "    text_features = roberta_model(input_ids=text[0], attention_mask=text[1]).pooler_output\n",
    "\n",
    "    return image_features, text_features\n",
    "\n",
    "\n",
    "# Sample feature extraction\n",
    "image_features, text_features = extract_features(preprocessed_image, (input_ids, attention_mask))\n",
    "print(f\"Image features shape: {image_features.shape}\")\n",
    "print(f\"Text features shape: {text_features.shape}\")"
   ]
  },
  {
   "cell_type": "code",
   "execution_count": 5,
   "metadata": {},
   "outputs": [
    {
     "name": "stdout",
     "output_type": "stream",
     "text": [
      "Fused features shape: (1, 2816)\n"
     ]
    }
   ],
   "source": [
    "#5. Feature Fusion\n",
    "def fuse_features(image_features, text_features):\n",
    "    combined_features = tf.concat([image_features, text_features], axis=1)\n",
    "    return combined_features\n",
    "\n",
    "# Sample feature fusion\n",
    "fused_features = fuse_features(image_features, text_features)\n",
    "print(f\"Fused features shape: {fused_features.shape}\")"
   ]
  },
  {
   "cell_type": "code",
   "execution_count": 6,
   "metadata": {},
   "outputs": [
    {
     "name": "stdout",
     "output_type": "stream",
     "text": [
      "Unique labels: ['suprasellar', 'mri-dwi', 't5', 'lateral ventricles', 'pa', 'xray - plain film', '4', 'lower lung fields', 'large bowel', 'ribs', 'hyperintensity of the left basal ganglia', 'cartilage is not well viewed by x rays', 'micronodular', 'right lung', 'infarcts', 'base', '6.5 x 6.2 x 8.8cm', 'loculated', 'lung markings present all the way laterally to the ribs', 'maybe', 'tumors, gallstones', 'upper lobes', 'nephroblastomatosis', 'chest xray', 'right sided aortic arch', 'ring-enhancing', 'portal vein occlusion', 't2 weighted', 'small subdural hematoma with cerebral edema', 'hypodense', 'the pancreas', 'sternal wires', 'nodules', 'omental caking', 'right lobe', 'in the bowel', 'right frontal lobe', '12', 'double arch', 'below the 7th rib in the right lung.', 'the brain', 'ultrasound', 'right mca', 'cardiovascular', 'the aorta and the inferior vena cava', 'underneath the right hemidiaphragm', 'cystic duct is more tortuous', 'abnormal hyperintensity in the right occipital lobe', 'heterogeneous', 'subarachnoid', 'fat accumulations', '4th ventricle', 'posterior lung seen in the image section', 'upper right lobe', 'ct', 'thickening of bronchi', 'not sure', 'the left kidney', 'both', 'oculomotor nerve (cn iii) and trigeminal nerves (cn v)', 'less enhancement', 'right side', 'multilobulated', 'cystic', 'right lateral ventricle', 'midline', 'pneumonia', 'mri diffusion weighted', 'flair mri', '5%', 'infarct', '2', 'nucleus pulposus', 'mri - t2 weighted', 'abcess', 'emphysema', 'punctate', '3rd rib', 'a bit', 'short section irregular contour', 'chest radiograph', 'right lower lobe', 'stones, cancer, infection, anatomic variants', 'bilateral parietal lobes', 'sternotomy wires and surgical clips', 'ring enhancing lesion', 'isointense', '7th rib', 'head/neck ct', 'location of the contrast?', 'iv contrast', 'left rectus abdominus', 'left temporal lobe', 'all three vascular distributions', 'right vertebral artery sign', 'abscess', 'pancreas', 'thalami, left occipital lobe, brainstem and left cerebellum', 'fluid', 'genetic', 'extra-axial and at the right choroidal fissure', 'superior', 'the aorta', 'epidural hematoma', 'spleen', 'in the thorasic aorta', 'hepatocellular carcioma', 'fatty infiltration', 'contrast ct with gi and iv contrast', 'yes', 'the right mainstem bronchus is more in line with the trachea than the left', 'white versus grey matter brightness', 'sella and suprasellar cistern', 'plicae circulares', 'female', 'cardiomegaly', 'right parietal', 'posterior to the gastric antrum', 'with contrast', 'lungs \\tbony thoracic cavit y\\tmediastinum and great vessels', 'paratracheal area', 'increased opacity in the left retrocardiac region', 'right lung hilum', 'mass', 'cystic lesions', 'respiratory system', 'quadrantopia, aphasia, memory deficit, etc.', 'right upper lobe', 'occipital lobe', 'mri/flair', 'sharp costophrenic angles', 'lentiform', 'left mid lung', 'edematous', 'elliptical', 'the lungs', 'cxr', 'left kidney', 'pleural plaques', 'toxoplasma, lymphoma, abscesses, other brain tumors', 'radiolucent', 'portal vein', 'pancreatic body', 'imaging artifacts', 'just one', 'almost entire right side', 'enlarged', 'splenule', 'well-circumscribed', 'x-ray', 'left thalamus', 'breasts', 'central hyperintensity and surrounding hypointensity', 'diffuse', 'scoliosis', 'the left costophrenic angle is blunted', '5cm', 'right paratracheal mass lesion', 'jejunum', 'bilateral', 'right sided pleural effusion', 'acute stroke', 'vasculature', 'left lung', 'moderate edema', 'intestine', 'pres', 'imagine the patient is laying down and you are looking from the feet', 'enlarged, fluid-filled', 'in the bowels', 'right temporal lobe', '5 cm', 'bowel contents light up on image', 'cirrhosis', 'lateral film as well as pa', 'in the vasculature', 'right kidney', 'sinusitis', 'hypoxic ischemic injury', 'sigmoid flexture of the colon', 'ring enhancing lesion in the left occipital lobe', 'the left occipital lobe', '5.6cm focal, predominantly hypodense', 'black', 'right superior cavoatrial junction', 'smooth', 'adjacent to vertebrae', 'right convexity', 'medial and lateral rectus', 'chronic sinusitis vs. hemorrhage', 'pneumothorax', 'metastases, infection/abcess, glioblastoma', 'enhancement of vessels', 'the abdomen', 'more acute means more inflammation-leading to enhancement?', 'psoas muscles', 'gray matter', 'mr - flair', 'shrunken and nodular', 'blind-ending loop of bowel arising from the cecum', 'descending colon', 'gallstones', 'ap', 'csf is brightly lit', 'right side of the trachea', 'exterior', 'fat', 'right subclavian vein', 'the extremities', 'l2', 'mr - t2 weighted', 'crescent', 'decreased muscle bulk', 'hip bones', 'nothing', 'right parietal lobe', 'costophrenic angle blunting', 'vascular', 'not sure.', 'multiple sclerosis', 'abdomen and pelvis', 'reduced sulci', 'metastasis', 'in the cortex and basal ganglia bilaterally', 'distal basilar artery', 'blunting of the costophrenic angle, loss of the right hemidiaphragm and right heart border', 'if the heart diameter is greater than half the diameter of the thoracic cavity.', 'irregular', 'concave', 'retroperitoneum; retroperitoneal space', 'the surrounding tissue', 'volume loss', 'mid abdomen', 't2', 'cortical ribbon of right occipital lobe with extension into right posterior temporal lobe', 'bilateral frontal lobes', 'aorta enhancement', 'congenital developmental disorder? history of surgery and past manipulation?', 'dwi', 'in the right hilum', 'x-ray plain film', 'right pica', 'infarcted areas', 'bilateral frontal lobes and body of corpus callosum', 'less dense', 'white matter plaques', 'gastrointestinal', 'horsehoe kidney', 'left apical pneumothorax', 'non-contrast', 'mri - t1 weighted', 'temporal lobe', 'mri', 'hemorrhage', 'more dense', 'gi', 'necrosis', 'basal ganglia (caudate and putamen)', 'contrast in the intestines', 'adjacent to the appendix', 'mri-flair', 'ms plaques', 'chest x ray', 'air', 'mr flair', 'kidneys', 'fat stranding around the appendix, thickened appendiceal walls, dilated appendix, and an appendicolith is seen as well', 'the liver', 'peritoneum', 'rounded, well-defined pulmonary nodules varying in size and pattern', 'hydropneumothorax', 'calcifications', 'mixed intensity', 'ureteral obstruction', 'pulmonary nodules', 'aorta', 'haustra', 'solid', 'exophytic cyst', 'heart \\tlungs', 'high on the image', 'hyperintense', 'calcification', 'fluid in the pleural space', 'right lung base', 'pericholecystic fluid', 'varicocele', 'cerebellum', 'anterior to the transverse colon', 'white matter', 'single lung nodule', 'partial silhouetting', 'mr - adc map', 'left temporal horn', 'blind loop syndrome', 'on the left', 'cerebrum and lateral ventricles', 'bilateral pleural effusion', 'non-enhanced', 'cardiac region', 'appendix', 'l2-3', 'basal ganglia', 'axial', 'width of aorta', 'medial rectus', 'flair', 'basilar artery thrombosis', 'atherosclerotic calcification', 'cns', 'contrast', 'a catheter', 'oral and iv', 'left hepatic lobe', 'right colon', 'r hemidiaphragm', 'it is enlarged with prominence of the aortic knob', 'right hemisphere', 'cva', 'right', 'pacemaker', 'lung', 'suprasellar cistern', 'infiltrative', 'the right frontal lobe', 'ischemia', 'left lobe mass 1.5 x 1.8 cm', 'air?', 'pineal region', 'biconvex', 'ascites', 'diverticuli', '4th and 5th', 'pleural effusion', 'left cerebellum', 'periappendiceal fluid and fat stranding', 'outside', 'air fluid level', 'anterior cerebrum', 'left side', 'less than half the thorax', 'stomach', 'viral', 'right lobe of the liver', 'bronchiectasis', 'left occipital lobe', 'aorta is bright', 'cardiopulmonary', 'right sylvian fissure', 'nipple location', \"superficial to the patient's skin\", 'prior surgery', 'surrounding tissue', 'lungs', 'necrotic tissue', 'brain', 'asymmetric', 'right cerebellum', 'trace the gallbladder emptying?', 'parasitic', 'gadolinium', 'one', 'non-contrast ct', 'semi-upright position', 'respiratory \\tcardia c\\tmusculoskeletal', 'extraluminal air and small fluid collection', 'bilateral cerebellum', 'on top of the patient', 'pa xray', 'left mca', 'posterior fossa', 'ring enhancing lesion in the right frontal lobe', 'left hemisphere', 'temporal and lateral occipital lobes', 'loss of normal gray-white matter junction', 'biopsy', 'motor weakness, sensory deficits, and left neglect', 'small bowel', 'infection', 'bilateral lungs', 'none', 'stomach bubble', 'parietal and occipital lobes', 'both sides', 'right lenticular nucleus', 'no', 'ring-enhancing lesion', 'above', '~15 minutes\\tpotentially faster with newer imaging systems', 'retrocardiac', 'sulcal effacement', 'posteriorly', 'plain film xray', 'xray', 'csf is white', 'right pca', 'chest', 'embolus', 'left lateral aspect of anterior peritoneum', 'c-t ratio', 'ct with gi and iv contrast', 'pons', 'man', 'abdominal pain', 'the posterior horn of the left lateral ventricle', 'there is massive cerebral hemisphere edema', 'coronal', 'psoas major muscle', 'posteroanterior', 'pituitary fossa', 'ruq pain, jaundice,weight loss?', 'medical process', 'csf is white.', 'adenopathy', 'left parietal lobe', 'cecum', 'viral/inflammatory', 'pineal gland', 'choroid plexus', 'right subdural hematoma', 'it is shifted to the right', 'in the midline', 'posterior brain', 'normal', 'left upper lobe', 'diffusion weighted imaging (dwi)', 'anterior surface', 'hypointense', '10-20 minutes', 'chest x-ray', 'cancer', 'left']\n",
      "Answer indices: [109]\n"
     ]
    }
   ],
   "source": [
    "#6. Update Label Mapping and Identifying Unique Labels\n",
    "# Assuming answer labels are already in the dataset\n",
    "answers = [item['answer'] for item in dataset['train']]\n",
    "unique_labels = list(set(answers))\n",
    "num_classes = len(unique_labels)\n",
    "\n",
    "# Create label to index mapping\n",
    "label_to_index = {label: idx for idx, label in enumerate(unique_labels)}\n",
    "index_to_label = {idx: label for label, idx in label_to_index.items()}\n",
    "\n",
    "# Convert answers to indices\n",
    "def convert_answers_to_indices(answers):\n",
    "    return np.array([label_to_index[answer] for answer in answers])\n",
    "\n",
    "# Sample conversion\n",
    "sample_answers = [dataset['train'][0]['answer']]\n",
    "answer_indices = convert_answers_to_indices(sample_answers)\n",
    "print(f\"Unique labels: {unique_labels}\")\n",
    "print(f\"Answer indices: {answer_indices}\")\n"
   ]
  },
  {
   "cell_type": "code",
   "execution_count": 7,
   "metadata": {},
   "outputs": [],
   "source": [
    "#7. Data Loader\n",
    "# Create a TensorFlow dataset\n",
    "def create_tf_dataset(dataset, batch_size=16):\n",
    "    def gen():\n",
    "        for item in dataset:\n",
    "            image = preprocess_image(item['image'])\n",
    "            text = tokenize_text(item['question'])\n",
    "            image_features, text_features = extract_features(image, text)\n",
    "            label = label_to_index[item['answer']]\n",
    "            yield (image_features, text_features), label\n",
    "\n",
    "    dataset = tf.data.Dataset.from_generator(gen, \n",
    "                                             output_signature=(\n",
    "                                                 (tf.TensorSpec(shape=(1, 2048), dtype=tf.float32),\n",
    "                                                  tf.TensorSpec(shape=(1, 768), dtype=tf.float32)),\n",
    "                                                 tf.TensorSpec(shape=(), dtype=tf.int32)\n",
    "                                             )\n",
    "                                            )\n",
    "    return dataset.batch(batch_size)\n",
    "\n",
    "train_dataset_tf = create_tf_dataset(dataset['train'])\n",
    "test_dataset_tf = create_tf_dataset(dataset['test'])"
   ]
  },
  {
   "cell_type": "code",
   "execution_count": 8,
   "metadata": {},
   "outputs": [
    {
     "ename": "",
     "evalue": "",
     "output_type": "error",
     "traceback": [
      "\u001b[1;31mThe Kernel crashed while executing code in the current cell or a previous cell. \n",
      "\u001b[1;31mPlease review the code in the cell(s) to identify a possible cause of the failure. \n",
      "\u001b[1;31mClick <a href='https://aka.ms/vscodeJupyterKernelCrash'>here</a> for more info. \n",
      "\u001b[1;31mView Jupyter <a href='command:jupyter.viewOutput'>log</a> for further details."
     ]
    }
   ],
   "source": [
    "#8. Model Definition\n",
    "# Model Definition\n",
    "class VQARADModel(tf.keras.Model):\n",
    "    def __init__(self, num_classes):\n",
    "        super(VQARADModel, self).__init__()\n",
    "        self.fc_image = tf.keras.layers.Dense(512, activation='relu')  # Project image features to match text features\n",
    "        self.fc_text = tf.keras.layers.Dense(512, activation='relu')   # Project text features to match image features\n",
    "        self.fc_final = tf.keras.layers.Dense(num_classes, activation='softmax')\n",
    "\n",
    "    def call(self, inputs):\n",
    "        image_features, text_features = inputs\n",
    "\n",
    "        # Process features\n",
    "        image_features = self.fc_image(image_features)\n",
    "        text_features = self.fc_text(text_features)\n",
    "\n",
    "        # Concatenate along the last axis\n",
    "        combined_features = tf.concat([image_features, text_features], axis=1)\n",
    "        output = self.fc_final(combined_features)\n",
    "\n",
    "        return output"
   ]
  },
  {
   "cell_type": "code",
   "execution_count": 9,
   "metadata": {},
   "outputs": [
    {
     "name": "stdout",
     "output_type": "stream",
     "text": [
      "Epoch 1/10\n"
     ]
    }
   ],
   "source": [
    "#9. Training and Evaluation\n",
    "\n",
    "# Instantiate and Compile the Model\n",
    "num_classes = len(unique_labels)\n",
    "model = VQARADModel(num_classes=num_classes)\n",
    "\n",
    "model.compile(optimizer=tf.keras.optimizers.Adam(learning_rate=0.001),\n",
    "              loss='sparse_categorical_crossentropy',\n",
    "              metrics=['accuracy'])\n",
    "\n",
    "# Fit the Model\n",
    "history = model.fit(train_dataset_tf, epochs=10, validation_data=test_dataset_tf)\n",
    "\n",
    "# Print training history\n",
    "print(\"Training completed.\")\n",
    "print(f\"Final training accuracy: {history.history['accuracy'][-1]}\")\n",
    "print(f\"Final validation accuracy: {history.history['val_accuracy'][-1]}\")"
   ]
  },
  {
   "cell_type": "code",
   "execution_count": null,
   "metadata": {},
   "outputs": [],
   "source": [
    "#10. Validation\n",
    "# Evaluate the model on the test dataset\n",
    "test_loss, test_accuracy = model.evaluate(test_dataset_tf)\n",
    "print(f\"Test Loss: {test_loss}\")\n",
    "print(f\"Test Accuracy: {test_accuracy}\")"
   ]
  }
 ],
 "metadata": {
  "kernelspec": {
   "display_name": "Python 3",
   "language": "python",
   "name": "python3"
  },
  "language_info": {
   "codemirror_mode": {
    "name": "ipython",
    "version": 3
   },
   "file_extension": ".py",
   "mimetype": "text/x-python",
   "name": "python",
   "nbconvert_exporter": "python",
   "pygments_lexer": "ipython3",
   "version": "3.10.9"
  }
 },
 "nbformat": 4,
 "nbformat_minor": 2
}
